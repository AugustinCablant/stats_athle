{
 "cells": [
  {
   "cell_type": "code",
   "execution_count": 1,
   "metadata": {},
   "outputs": [],
   "source": [
    "import numpy as np \n",
    "import pandas as pd \n",
    "import matplotlib.pyplot as plt \n",
    "from datetime import timedelta\n",
    "from datetime import datetime\n",
    "import fct_athle\n",
    "import plotly.express as px"
   ]
  },
  {
   "cell_type": "code",
   "execution_count": 19,
   "metadata": {},
   "outputs": [
    {
     "name": "stderr",
     "output_type": "stream",
     "text": [
      "c:\\Users\\d43284\\AppData\\Local\\anaconda3\\Lib\\site-packages\\_plotly_utils\\basevalidators.py:106: FutureWarning:\n",
      "\n",
      "The behavior of DatetimeProperties.to_pydatetime is deprecated, in a future version this will return a Series containing python datetime objects instead of an ndarray. To retain the old behavior, call `np.array` on the result\n",
      "\n"
     ]
    },
    {
     "data": {
      "application/vnd.plotly.v1+json": {
       "config": {
        "plotlyServerURL": "https://plot.ly"
       },
       "data": [
        {
         "hovertemplate": "<b>%{hovertext}</b><br><br>Races=Meeting National Est Lyonnais<br>Date de la course=%{x}<br>Chrono (en secondes)=%{y}<extra></extra>",
         "hovertext": [
          "Meeting National Est Lyonnais (04/05/2024)"
         ],
         "ids": [
          "Meeting National Est Lyonnais"
         ],
         "legendgroup": "Meeting National Est Lyonnais",
         "line": {
          "color": "#636efa",
          "dash": "solid",
          "shape": "spline"
         },
         "marker": {
          "symbol": "circle"
         },
         "mode": "lines+markers",
         "name": "Meeting National Est Lyonnais",
         "orientation": "v",
         "showlegend": true,
         "type": "scatter",
         "x": [
          "2024-05-04T00:00:00"
         ],
         "xaxis": "x",
         "y": [
          105.24
         ],
         "yaxis": "y"
        }
       ],
       "frames": [
        {
         "data": [
          {
           "hovertemplate": "<b>%{hovertext}</b><br><br>Races=Meeting National Est Lyonnais<br>Date de la course=%{x}<br>Chrono (en secondes)=%{y}<extra></extra>",
           "hovertext": [
            "Meeting National Est Lyonnais (04/05/2024)"
           ],
           "ids": [
            "Meeting National Est Lyonnais"
           ],
           "legendgroup": "Meeting National Est Lyonnais",
           "line": {
            "color": "#636efa",
            "dash": "solid",
            "shape": "spline"
           },
           "marker": {
            "symbol": "circle"
           },
           "mode": "lines+markers",
           "name": "Meeting National Est Lyonnais",
           "orientation": "v",
           "showlegend": true,
           "type": "scatter",
           "x": [
            "2024-05-04T00:00:00"
           ],
           "xaxis": "x",
           "y": [
            105.24
           ],
           "yaxis": "y"
          }
         ],
         "name": "2024-05-04 00:00:00"
        },
        {
         "data": [
          {
           "hovertemplate": "<b>%{hovertext}</b><br><br>Races=Meeting International de Montreuil<br>Date de la course=%{x}<br>Chrono (en secondes)=%{y}<extra></extra>",
           "hovertext": [
            "Meeting International de Montreuil (16/05/2024)"
           ],
           "ids": [
            "Meeting International de Montreuil"
           ],
           "legendgroup": "Meeting International de Montreuil",
           "line": {
            "color": "#EF553B",
            "dash": "solid",
            "shape": "spline"
           },
           "marker": {
            "symbol": "circle"
           },
           "mode": "lines+markers",
           "name": "Meeting International de Montreuil",
           "orientation": "v",
           "showlegend": true,
           "type": "scatter",
           "x": [
            "2024-05-16T00:00:00"
           ],
           "xaxis": "x",
           "y": [
            106.76
           ],
           "yaxis": "y"
          }
         ],
         "name": "2024-05-16 00:00:00"
        },
        {
         "data": [
          {
           "hovertemplate": "<b>%{hovertext}</b><br><br>Races=International Marseille Meeting<br>Date de la course=%{x}<br>Chrono (en secondes)=%{y}<extra></extra>",
           "hovertext": [
            "International Marseille Meeting (22/05/2024)"
           ],
           "ids": [
            "International Marseille Meeting"
           ],
           "legendgroup": "International Marseille Meeting",
           "line": {
            "color": "#00cc96",
            "dash": "solid",
            "shape": "spline"
           },
           "marker": {
            "symbol": "circle"
           },
           "mode": "lines+markers",
           "name": "International Marseille Meeting",
           "orientation": "v",
           "showlegend": true,
           "type": "scatter",
           "x": [
            "2024-05-22T00:00:00"
           ],
           "xaxis": "x",
           "y": [
            105.81
           ],
           "yaxis": "y"
          }
         ],
         "name": "2024-05-22 00:00:00"
        },
        {
         "data": [
          {
           "hovertemplate": "<b>%{hovertext}</b><br><br>Races=Meeting Stanislas Nancy<br>Date de la course=%{x}<br>Chrono (en secondes)=%{y}<extra></extra>",
           "hovertext": [
            "Meeting Stanislas Nancy (25/05/2024)"
           ],
           "ids": [
            "Meeting Stanislas Nancy"
           ],
           "legendgroup": "Meeting Stanislas Nancy",
           "line": {
            "color": "#ab63fa",
            "dash": "solid",
            "shape": "spline"
           },
           "marker": {
            "symbol": "circle"
           },
           "mode": "lines+markers",
           "name": "Meeting Stanislas Nancy",
           "orientation": "v",
           "showlegend": true,
           "type": "scatter",
           "x": [
            "2024-05-25T00:00:00"
           ],
           "xaxis": "x",
           "y": [
            105.22
           ],
           "yaxis": "y"
          }
         ],
         "name": "2024-05-25 00:00:00"
        },
        {
         "data": [
          {
           "hovertemplate": "<b>%{hovertext}</b><br><br>Races=Meeting International d'Athlétisme de Troyes Aube<br>Date de la course=%{x}<br>Chrono (en secondes)=%{y}<extra></extra>",
           "hovertext": [
            "Meeting International d'Athlétisme de Troyes Aube (16/06/2024)"
           ],
           "ids": [
            "Meeting International d'Athlétisme de Troyes Aube"
           ],
           "legendgroup": "Meeting International d'Athlétisme de Troyes Aube",
           "line": {
            "color": "#FFA15A",
            "dash": "solid",
            "shape": "spline"
           },
           "marker": {
            "symbol": "circle"
           },
           "mode": "lines+markers",
           "name": "Meeting International d'Athlétisme de Troyes Aube",
           "orientation": "v",
           "showlegend": true,
           "type": "scatter",
           "x": [
            "2024-06-16T00:00:00"
           ],
           "xaxis": "x",
           "y": [
            106.94
           ],
           "yaxis": "y"
          }
         ],
         "name": "2024-06-16 00:00:00"
        },
        {
         "data": [
          {
           "hovertemplate": "<b>%{hovertext}</b><br><br>Races=Nationales Abendsportfest - Pfungstadt, TSV Stadion, Pfungstadt<br>Date de la course=%{x}<br>Chrono (en secondes)=%{y}<extra></extra>",
           "hovertext": [
            "Nationales Abendsportfest - Pfungstadt, TSV Stadion, Pfungstadt (19/06/2024)"
           ],
           "ids": [
            "Nationales Abendsportfest - Pfungstadt, TSV Stadion, Pfungstadt"
           ],
           "legendgroup": "Nationales Abendsportfest - Pfungstadt, TSV Stadion, Pfungstadt",
           "line": {
            "color": "#19d3f3",
            "dash": "solid",
            "shape": "spline"
           },
           "marker": {
            "symbol": "circle"
           },
           "mode": "lines+markers",
           "name": "Nationales Abendsportfest - Pfungstadt, TSV Stadion, Pfungstadt",
           "orientation": "v",
           "showlegend": true,
           "type": "scatter",
           "x": [
            "2024-06-19T00:00:00"
           ],
           "xaxis": "x",
           "y": [
            105
           ],
           "yaxis": "y"
          }
         ],
         "name": "2024-06-19 00:00:00"
        },
        {
         "data": [
          {
           "hovertemplate": "<b>%{hovertext}</b><br><br>Races=Track Night Vienna, LAZ Wien, Wien<br>Date de la course=%{x}<br>Chrono (en secondes)=%{y}<extra></extra>",
           "hovertext": [
            "Track Night Vienna, LAZ Wien, Wien (22/06/2024)"
           ],
           "ids": [
            "Track Night Vienna, LAZ Wien, Wien"
           ],
           "legendgroup": "Track Night Vienna, LAZ Wien, Wien",
           "line": {
            "color": "#FF6692",
            "dash": "solid",
            "shape": "spline"
           },
           "marker": {
            "symbol": "circle"
           },
           "mode": "lines+markers",
           "name": "Track Night Vienna, LAZ Wien, Wien",
           "orientation": "v",
           "showlegend": true,
           "type": "scatter",
           "x": [
            "2024-06-22T00:00:00"
           ],
           "xaxis": "x",
           "y": [
            104.25
           ],
           "yaxis": "y"
          }
         ],
         "name": "2024-06-22 00:00:00"
        }
       ],
       "layout": {
        "annotations": [
         {
          "arrowhead": 1,
          "showarrow": true,
          "text": "DNF 26/05/2024",
          "x": "2024-05-26T00:00:00",
          "y": 100
         }
        ],
        "legend": {
         "font": {
          "size": 10
         },
         "orientation": "v",
         "title": {
          "text": "Races"
         },
         "tracegroupgap": 0,
         "traceorder": "normal",
         "x": 1,
         "y": 1
        },
        "showlegend": true,
        "sliders": [
         {
          "active": 0,
          "currentvalue": {
           "prefix": "Date de la course="
          },
          "len": 0.9,
          "pad": {
           "b": 10,
           "t": 60
          },
          "steps": [
           {
            "args": [
             [
              "2024-05-04 00:00:00"
             ],
             {
              "frame": {
               "duration": 0,
               "redraw": false
              },
              "fromcurrent": true,
              "mode": "immediate",
              "transition": {
               "duration": 0,
               "easing": "linear"
              }
             }
            ],
            "label": "2024-05-04 00:00:00",
            "method": "animate"
           },
           {
            "args": [
             [
              "2024-05-16 00:00:00"
             ],
             {
              "frame": {
               "duration": 0,
               "redraw": false
              },
              "fromcurrent": true,
              "mode": "immediate",
              "transition": {
               "duration": 0,
               "easing": "linear"
              }
             }
            ],
            "label": "2024-05-16 00:00:00",
            "method": "animate"
           },
           {
            "args": [
             [
              "2024-05-22 00:00:00"
             ],
             {
              "frame": {
               "duration": 0,
               "redraw": false
              },
              "fromcurrent": true,
              "mode": "immediate",
              "transition": {
               "duration": 0,
               "easing": "linear"
              }
             }
            ],
            "label": "2024-05-22 00:00:00",
            "method": "animate"
           },
           {
            "args": [
             [
              "2024-05-25 00:00:00"
             ],
             {
              "frame": {
               "duration": 0,
               "redraw": false
              },
              "fromcurrent": true,
              "mode": "immediate",
              "transition": {
               "duration": 0,
               "easing": "linear"
              }
             }
            ],
            "label": "2024-05-25 00:00:00",
            "method": "animate"
           },
           {
            "args": [
             [
              "2024-06-16 00:00:00"
             ],
             {
              "frame": {
               "duration": 0,
               "redraw": false
              },
              "fromcurrent": true,
              "mode": "immediate",
              "transition": {
               "duration": 0,
               "easing": "linear"
              }
             }
            ],
            "label": "2024-06-16 00:00:00",
            "method": "animate"
           },
           {
            "args": [
             [
              "2024-06-19 00:00:00"
             ],
             {
              "frame": {
               "duration": 0,
               "redraw": false
              },
              "fromcurrent": true,
              "mode": "immediate",
              "transition": {
               "duration": 0,
               "easing": "linear"
              }
             }
            ],
            "label": "2024-06-19 00:00:00",
            "method": "animate"
           },
           {
            "args": [
             [
              "2024-06-22 00:00:00"
             ],
             {
              "frame": {
               "duration": 0,
               "redraw": false
              },
              "fromcurrent": true,
              "mode": "immediate",
              "transition": {
               "duration": 0,
               "easing": "linear"
              }
             }
            ],
            "label": "2024-06-22 00:00:00",
            "method": "animate"
           }
          ],
          "x": 0.1,
          "xanchor": "left",
          "y": 0,
          "yanchor": "top"
         }
        ],
        "template": {
         "data": {
          "bar": [
           {
            "error_x": {
             "color": "#2a3f5f"
            },
            "error_y": {
             "color": "#2a3f5f"
            },
            "marker": {
             "line": {
              "color": "#E5ECF6",
              "width": 0.5
             },
             "pattern": {
              "fillmode": "overlay",
              "size": 10,
              "solidity": 0.2
             }
            },
            "type": "bar"
           }
          ],
          "barpolar": [
           {
            "marker": {
             "line": {
              "color": "#E5ECF6",
              "width": 0.5
             },
             "pattern": {
              "fillmode": "overlay",
              "size": 10,
              "solidity": 0.2
             }
            },
            "type": "barpolar"
           }
          ],
          "carpet": [
           {
            "aaxis": {
             "endlinecolor": "#2a3f5f",
             "gridcolor": "white",
             "linecolor": "white",
             "minorgridcolor": "white",
             "startlinecolor": "#2a3f5f"
            },
            "baxis": {
             "endlinecolor": "#2a3f5f",
             "gridcolor": "white",
             "linecolor": "white",
             "minorgridcolor": "white",
             "startlinecolor": "#2a3f5f"
            },
            "type": "carpet"
           }
          ],
          "choropleth": [
           {
            "colorbar": {
             "outlinewidth": 0,
             "ticks": ""
            },
            "type": "choropleth"
           }
          ],
          "contour": [
           {
            "colorbar": {
             "outlinewidth": 0,
             "ticks": ""
            },
            "colorscale": [
             [
              0,
              "#0d0887"
             ],
             [
              0.1111111111111111,
              "#46039f"
             ],
             [
              0.2222222222222222,
              "#7201a8"
             ],
             [
              0.3333333333333333,
              "#9c179e"
             ],
             [
              0.4444444444444444,
              "#bd3786"
             ],
             [
              0.5555555555555556,
              "#d8576b"
             ],
             [
              0.6666666666666666,
              "#ed7953"
             ],
             [
              0.7777777777777778,
              "#fb9f3a"
             ],
             [
              0.8888888888888888,
              "#fdca26"
             ],
             [
              1,
              "#f0f921"
             ]
            ],
            "type": "contour"
           }
          ],
          "contourcarpet": [
           {
            "colorbar": {
             "outlinewidth": 0,
             "ticks": ""
            },
            "type": "contourcarpet"
           }
          ],
          "heatmap": [
           {
            "colorbar": {
             "outlinewidth": 0,
             "ticks": ""
            },
            "colorscale": [
             [
              0,
              "#0d0887"
             ],
             [
              0.1111111111111111,
              "#46039f"
             ],
             [
              0.2222222222222222,
              "#7201a8"
             ],
             [
              0.3333333333333333,
              "#9c179e"
             ],
             [
              0.4444444444444444,
              "#bd3786"
             ],
             [
              0.5555555555555556,
              "#d8576b"
             ],
             [
              0.6666666666666666,
              "#ed7953"
             ],
             [
              0.7777777777777778,
              "#fb9f3a"
             ],
             [
              0.8888888888888888,
              "#fdca26"
             ],
             [
              1,
              "#f0f921"
             ]
            ],
            "type": "heatmap"
           }
          ],
          "heatmapgl": [
           {
            "colorbar": {
             "outlinewidth": 0,
             "ticks": ""
            },
            "colorscale": [
             [
              0,
              "#0d0887"
             ],
             [
              0.1111111111111111,
              "#46039f"
             ],
             [
              0.2222222222222222,
              "#7201a8"
             ],
             [
              0.3333333333333333,
              "#9c179e"
             ],
             [
              0.4444444444444444,
              "#bd3786"
             ],
             [
              0.5555555555555556,
              "#d8576b"
             ],
             [
              0.6666666666666666,
              "#ed7953"
             ],
             [
              0.7777777777777778,
              "#fb9f3a"
             ],
             [
              0.8888888888888888,
              "#fdca26"
             ],
             [
              1,
              "#f0f921"
             ]
            ],
            "type": "heatmapgl"
           }
          ],
          "histogram": [
           {
            "marker": {
             "pattern": {
              "fillmode": "overlay",
              "size": 10,
              "solidity": 0.2
             }
            },
            "type": "histogram"
           }
          ],
          "histogram2d": [
           {
            "colorbar": {
             "outlinewidth": 0,
             "ticks": ""
            },
            "colorscale": [
             [
              0,
              "#0d0887"
             ],
             [
              0.1111111111111111,
              "#46039f"
             ],
             [
              0.2222222222222222,
              "#7201a8"
             ],
             [
              0.3333333333333333,
              "#9c179e"
             ],
             [
              0.4444444444444444,
              "#bd3786"
             ],
             [
              0.5555555555555556,
              "#d8576b"
             ],
             [
              0.6666666666666666,
              "#ed7953"
             ],
             [
              0.7777777777777778,
              "#fb9f3a"
             ],
             [
              0.8888888888888888,
              "#fdca26"
             ],
             [
              1,
              "#f0f921"
             ]
            ],
            "type": "histogram2d"
           }
          ],
          "histogram2dcontour": [
           {
            "colorbar": {
             "outlinewidth": 0,
             "ticks": ""
            },
            "colorscale": [
             [
              0,
              "#0d0887"
             ],
             [
              0.1111111111111111,
              "#46039f"
             ],
             [
              0.2222222222222222,
              "#7201a8"
             ],
             [
              0.3333333333333333,
              "#9c179e"
             ],
             [
              0.4444444444444444,
              "#bd3786"
             ],
             [
              0.5555555555555556,
              "#d8576b"
             ],
             [
              0.6666666666666666,
              "#ed7953"
             ],
             [
              0.7777777777777778,
              "#fb9f3a"
             ],
             [
              0.8888888888888888,
              "#fdca26"
             ],
             [
              1,
              "#f0f921"
             ]
            ],
            "type": "histogram2dcontour"
           }
          ],
          "mesh3d": [
           {
            "colorbar": {
             "outlinewidth": 0,
             "ticks": ""
            },
            "type": "mesh3d"
           }
          ],
          "parcoords": [
           {
            "line": {
             "colorbar": {
              "outlinewidth": 0,
              "ticks": ""
             }
            },
            "type": "parcoords"
           }
          ],
          "pie": [
           {
            "automargin": true,
            "type": "pie"
           }
          ],
          "scatter": [
           {
            "fillpattern": {
             "fillmode": "overlay",
             "size": 10,
             "solidity": 0.2
            },
            "type": "scatter"
           }
          ],
          "scatter3d": [
           {
            "line": {
             "colorbar": {
              "outlinewidth": 0,
              "ticks": ""
             }
            },
            "marker": {
             "colorbar": {
              "outlinewidth": 0,
              "ticks": ""
             }
            },
            "type": "scatter3d"
           }
          ],
          "scattercarpet": [
           {
            "marker": {
             "colorbar": {
              "outlinewidth": 0,
              "ticks": ""
             }
            },
            "type": "scattercarpet"
           }
          ],
          "scattergeo": [
           {
            "marker": {
             "colorbar": {
              "outlinewidth": 0,
              "ticks": ""
             }
            },
            "type": "scattergeo"
           }
          ],
          "scattergl": [
           {
            "marker": {
             "colorbar": {
              "outlinewidth": 0,
              "ticks": ""
             }
            },
            "type": "scattergl"
           }
          ],
          "scattermapbox": [
           {
            "marker": {
             "colorbar": {
              "outlinewidth": 0,
              "ticks": ""
             }
            },
            "type": "scattermapbox"
           }
          ],
          "scatterpolar": [
           {
            "marker": {
             "colorbar": {
              "outlinewidth": 0,
              "ticks": ""
             }
            },
            "type": "scatterpolar"
           }
          ],
          "scatterpolargl": [
           {
            "marker": {
             "colorbar": {
              "outlinewidth": 0,
              "ticks": ""
             }
            },
            "type": "scatterpolargl"
           }
          ],
          "scatterternary": [
           {
            "marker": {
             "colorbar": {
              "outlinewidth": 0,
              "ticks": ""
             }
            },
            "type": "scatterternary"
           }
          ],
          "surface": [
           {
            "colorbar": {
             "outlinewidth": 0,
             "ticks": ""
            },
            "colorscale": [
             [
              0,
              "#0d0887"
             ],
             [
              0.1111111111111111,
              "#46039f"
             ],
             [
              0.2222222222222222,
              "#7201a8"
             ],
             [
              0.3333333333333333,
              "#9c179e"
             ],
             [
              0.4444444444444444,
              "#bd3786"
             ],
             [
              0.5555555555555556,
              "#d8576b"
             ],
             [
              0.6666666666666666,
              "#ed7953"
             ],
             [
              0.7777777777777778,
              "#fb9f3a"
             ],
             [
              0.8888888888888888,
              "#fdca26"
             ],
             [
              1,
              "#f0f921"
             ]
            ],
            "type": "surface"
           }
          ],
          "table": [
           {
            "cells": {
             "fill": {
              "color": "#EBF0F8"
             },
             "line": {
              "color": "white"
             }
            },
            "header": {
             "fill": {
              "color": "#C8D4E3"
             },
             "line": {
              "color": "white"
             }
            },
            "type": "table"
           }
          ]
         },
         "layout": {
          "annotationdefaults": {
           "arrowcolor": "#2a3f5f",
           "arrowhead": 0,
           "arrowwidth": 1
          },
          "autotypenumbers": "strict",
          "coloraxis": {
           "colorbar": {
            "outlinewidth": 0,
            "ticks": ""
           }
          },
          "colorscale": {
           "diverging": [
            [
             0,
             "#8e0152"
            ],
            [
             0.1,
             "#c51b7d"
            ],
            [
             0.2,
             "#de77ae"
            ],
            [
             0.3,
             "#f1b6da"
            ],
            [
             0.4,
             "#fde0ef"
            ],
            [
             0.5,
             "#f7f7f7"
            ],
            [
             0.6,
             "#e6f5d0"
            ],
            [
             0.7,
             "#b8e186"
            ],
            [
             0.8,
             "#7fbc41"
            ],
            [
             0.9,
             "#4d9221"
            ],
            [
             1,
             "#276419"
            ]
           ],
           "sequential": [
            [
             0,
             "#0d0887"
            ],
            [
             0.1111111111111111,
             "#46039f"
            ],
            [
             0.2222222222222222,
             "#7201a8"
            ],
            [
             0.3333333333333333,
             "#9c179e"
            ],
            [
             0.4444444444444444,
             "#bd3786"
            ],
            [
             0.5555555555555556,
             "#d8576b"
            ],
            [
             0.6666666666666666,
             "#ed7953"
            ],
            [
             0.7777777777777778,
             "#fb9f3a"
            ],
            [
             0.8888888888888888,
             "#fdca26"
            ],
            [
             1,
             "#f0f921"
            ]
           ],
           "sequentialminus": [
            [
             0,
             "#0d0887"
            ],
            [
             0.1111111111111111,
             "#46039f"
            ],
            [
             0.2222222222222222,
             "#7201a8"
            ],
            [
             0.3333333333333333,
             "#9c179e"
            ],
            [
             0.4444444444444444,
             "#bd3786"
            ],
            [
             0.5555555555555556,
             "#d8576b"
            ],
            [
             0.6666666666666666,
             "#ed7953"
            ],
            [
             0.7777777777777778,
             "#fb9f3a"
            ],
            [
             0.8888888888888888,
             "#fdca26"
            ],
            [
             1,
             "#f0f921"
            ]
           ]
          },
          "colorway": [
           "#636efa",
           "#EF553B",
           "#00cc96",
           "#ab63fa",
           "#FFA15A",
           "#19d3f3",
           "#FF6692",
           "#B6E880",
           "#FF97FF",
           "#FECB52"
          ],
          "font": {
           "color": "#2a3f5f"
          },
          "geo": {
           "bgcolor": "white",
           "lakecolor": "white",
           "landcolor": "#E5ECF6",
           "showlakes": true,
           "showland": true,
           "subunitcolor": "white"
          },
          "hoverlabel": {
           "align": "left"
          },
          "hovermode": "closest",
          "mapbox": {
           "style": "light"
          },
          "paper_bgcolor": "white",
          "plot_bgcolor": "#E5ECF6",
          "polar": {
           "angularaxis": {
            "gridcolor": "white",
            "linecolor": "white",
            "ticks": ""
           },
           "bgcolor": "#E5ECF6",
           "radialaxis": {
            "gridcolor": "white",
            "linecolor": "white",
            "ticks": ""
           }
          },
          "scene": {
           "xaxis": {
            "backgroundcolor": "#E5ECF6",
            "gridcolor": "white",
            "gridwidth": 2,
            "linecolor": "white",
            "showbackground": true,
            "ticks": "",
            "zerolinecolor": "white"
           },
           "yaxis": {
            "backgroundcolor": "#E5ECF6",
            "gridcolor": "white",
            "gridwidth": 2,
            "linecolor": "white",
            "showbackground": true,
            "ticks": "",
            "zerolinecolor": "white"
           },
           "zaxis": {
            "backgroundcolor": "#E5ECF6",
            "gridcolor": "white",
            "gridwidth": 2,
            "linecolor": "white",
            "showbackground": true,
            "ticks": "",
            "zerolinecolor": "white"
           }
          },
          "shapedefaults": {
           "line": {
            "color": "#2a3f5f"
           }
          },
          "ternary": {
           "aaxis": {
            "gridcolor": "white",
            "linecolor": "white",
            "ticks": ""
           },
           "baxis": {
            "gridcolor": "white",
            "linecolor": "white",
            "ticks": ""
           },
           "bgcolor": "#E5ECF6",
           "caxis": {
            "gridcolor": "white",
            "linecolor": "white",
            "ticks": ""
           }
          },
          "title": {
           "x": 0.05
          },
          "xaxis": {
           "automargin": true,
           "gridcolor": "white",
           "linecolor": "white",
           "ticks": "",
           "title": {
            "standoff": 15
           },
           "zerolinecolor": "white",
           "zerolinewidth": 2
          },
          "yaxis": {
           "automargin": true,
           "gridcolor": "white",
           "linecolor": "white",
           "ticks": "",
           "title": {
            "standoff": 15
           },
           "zerolinecolor": "white",
           "zerolinewidth": 2
          }
         }
        },
        "title": {
         "text": "Évolution des chronos sur 800m de Corentin LE CLEZIO (été 2024)"
        },
        "updatemenus": [
         {
          "buttons": [
           {
            "args": [
             null,
             {
              "frame": {
               "duration": 3000,
               "redraw": true
              },
              "fromcurrent": true,
              "transition": {
               "duration": 500,
               "easing": "linear"
              }
             }
            ],
            "label": "Play",
            "method": "animate"
           },
           {
            "args": [
             null,
             {
              "frame": {
               "duration": 3000,
               "redraw": true
              },
              "fromcurrent": true,
              "transition": {
               "duration": 500,
               "easing": "linear"
              }
             }
            ],
            "label": "Play",
            "method": "animate"
           }
          ],
          "direction": "left",
          "pad": {
           "r": 10,
           "t": 87
          },
          "showactive": false,
          "type": "buttons",
          "x": 0.1,
          "xanchor": "right",
          "y": 0,
          "yanchor": "top"
         }
        ],
        "xaxis": {
         "anchor": "y",
         "categoryarray": [
          "2024-05-04T00:00:00",
          "2024-05-16T00:00:00",
          "2024-05-22T00:00:00",
          "2024-05-25T00:00:00",
          "2024-06-16T00:00:00",
          "2024-06-19T00:00:00",
          "2024-06-22T00:00:00"
         ],
         "categoryorder": "array",
         "domain": [
          0,
          1
         ],
         "range": [
          "2024-05-04T00:00:00",
          "2024-06-22T00:00:00"
         ],
         "title": {
          "text": "Date de la course"
         }
        },
        "yaxis": {
         "anchor": "x",
         "domain": [
          0,
          1
         ],
         "dtick": 10,
         "gridcolor": "LightGrey",
         "range": [
          99.25,
          111.94
         ],
         "title": {
          "text": "Chrono (en secondes)"
         }
        }
       }
      }
     },
     "metadata": {},
     "output_type": "display_data"
    }
   ],
   "source": [
    "R = ['Meeting National Est Lyonnais',\n",
    "     'Meeting International de Montreuil',\n",
    "     'International Marseille Meeting',\n",
    "     'Meeting Stanislas Nancy',\n",
    "     'Meeting International de Forbach',\n",
    "     \"Meeting International d'Athlétisme de Troyes Aube\",\n",
    "    'Nationales Abendsportfest - Pfungstadt, TSV Stadion, Pfungstadt', \n",
    "    'Track Night Vienna, LAZ Wien, Wien']\n",
    "\n",
    "T = [timedelta(minutes=1, seconds=45, milliseconds=240),\n",
    "     timedelta(minutes=1, seconds=46, milliseconds=760),\n",
    "     timedelta(minutes=1, seconds=45, milliseconds=810),\n",
    "     timedelta(minutes=1, seconds=45, milliseconds=220),\n",
    "     'DNF',\n",
    "     timedelta(minutes=1, seconds=46, milliseconds=940),\n",
    "     timedelta(minutes=1, seconds=45, milliseconds=00),\n",
    "     timedelta(minutes=1, seconds=44, milliseconds=250)]\n",
    "\n",
    "D = [datetime(year=2024, month=5, day=4),\n",
    "     datetime(year=2024, month=5, day=16),\n",
    "     datetime(year=2024, month=5, day=22),\n",
    "     datetime(year=2024, month=5, day=25),\n",
    "     datetime(year=2024, month=5, day=26),\n",
    "     datetime(year=2024, month=6, day=16),\n",
    "     datetime(year=2024, month=6, day=19),\n",
    "     datetime(year=2024, month=6, day=22)]\n",
    "\n",
    "corentin = pd.DataFrame(fct_athle.remplir_dico_athle(R,T,D))\n",
    "corentin = corentin[corentin['Time'] != 'DNF']\n",
    "corentin.sort_values(by='Date', inplace=True)\n",
    "corentin['Race_Date'] = corentin.apply(lambda row: f\"{row['Races']} ({row['Date'].strftime('%d/%m/%Y')})\", axis=1)\n",
    "corentin['sec'] = corentin['Time'].apply(lambda x: x.total_seconds())\n",
    "fig = px.line(corentin, x='Date', y='sec', color='Races', markers=True,\n",
    "              animation_frame='Date', \n",
    "              animation_group='Races', \n",
    "              range_x=[corentin['Date'].min(), corentin['Date'].max()],\n",
    "              range_y=[corentin['sec'].min() - 5, corentin['sec'].max() + 5],\n",
    "              title=\"Évolution des chronos sur 800m de Corentin LE CLEZIO (été 2024)\",\n",
    "              labels={'Date': 'Date de la course', 'sec': 'Chrono (en secondes)'},\n",
    "              line_shape='spline',\n",
    "              hover_name='Race_Date')\n",
    "\n",
    "fig.update_traces(mode='lines+markers')\n",
    "fig.add_annotation(x = datetime(year=2024, month=5, day=26), y=100, text='DNF 26/05/2024', showarrow=True, arrowhead=1)\n",
    "fig.update_yaxes(dtick=10, gridcolor='LightGrey')\n",
    "\n",
    "fig.update_layout(\n",
    "    updatemenus=[{\n",
    "        \"buttons\": [{\n",
    "            \"args\": [None, {\n",
    "                \"frame\": {\"duration\": 3000, \"redraw\": True},  \n",
    "                \"fromcurrent\": True,\n",
    "                \"transition\": {\"duration\": 500, \"easing\": \"linear\"}\n",
    "            }],\n",
    "            \"label\": \"Play\",\n",
    "            \"method\": \"animate\"\n",
    "        }],\n",
    "        \"direction\": \"left\",\n",
    "        \"pad\": {\"r\": 10, \"t\": 87},\n",
    "        \"showactive\": False,\n",
    "        \"type\": \"buttons\",\n",
    "        \"x\": 0.1,\n",
    "        \"xanchor\": \"right\",\n",
    "        \"y\": 0,\n",
    "        \"yanchor\": \"top\"\n",
    "    }],\n",
    "    # Affichage de la légende toujours activé\n",
    "    showlegend=True,  # Force l'affichage de la légende\n",
    "    legend=dict(\n",
    "        traceorder='normal',  # Ordre normal des traces\n",
    "        font=dict(\n",
    "            size=10  # Taille de la police pour la légende\n",
    "        ),\n",
    "        orientation=\"v\",  # Orientation verticale de la légende\n",
    "        x=1,  # Position de la légende sur l'axe x\n",
    "        y=1  # Position de la légende sur l'axe y\n",
    "    )\n",
    ")\n",
    "# Affichage interactif\n",
    "fig.show()"
   ]
  },
  {
   "cell_type": "code",
   "execution_count": null,
   "metadata": {},
   "outputs": [],
   "source": []
  }
 ],
 "metadata": {
  "kernelspec": {
   "display_name": "base",
   "language": "python",
   "name": "python3"
  },
  "language_info": {
   "codemirror_mode": {
    "name": "ipython",
    "version": 3
   },
   "file_extension": ".py",
   "mimetype": "text/x-python",
   "name": "python",
   "nbconvert_exporter": "python",
   "pygments_lexer": "ipython3",
   "version": "3.11.7"
  }
 },
 "nbformat": 4,
 "nbformat_minor": 2
}
