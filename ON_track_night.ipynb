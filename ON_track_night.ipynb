{
 "cells": [
  {
   "cell_type": "code",
   "execution_count": 11,
   "metadata": {},
   "outputs": [],
   "source": [
    "import numpy as np \n",
    "import pandas as pd \n",
    "import matplotlib.pyplot as plt \n",
    "from datetime import timedelta\n",
    "from datetime import datetime\n",
    "import f_OTN\n",
    "import plotly.express as px\n",
    "import warnings\n",
    "warnings.filterwarnings(\"ignore\", category=FutureWarning)"
   ]
  },
  {
   "cell_type": "code",
   "execution_count": 35,
   "metadata": {},
   "outputs": [
    {
     "data": {
      "application/vnd.plotly.v1+json": {
       "config": {
        "plotlyServerURL": "https://plot.ly"
       },
       "data": [
        {
         "hovertemplate": "<b>%{hovertext}</b><br><br>Races=Meeting National <br> Est Lyonnais<br>Date de la course=%{x}<br>Chrono (en secondes)=%{y}<extra></extra>",
         "hovertext": [
          "Meeting National <br> Est Lyonnais <br> (04/05/2024)"
         ],
         "legendgroup": "Meeting National <br> Est Lyonnais",
         "line": {
          "color": "#636efa",
          "dash": "solid",
          "shape": "spline"
         },
         "marker": {
          "symbol": "circle"
         },
         "mode": "markers+lines",
         "name": "Meeting National <br> Est Lyonnais",
         "orientation": "v",
         "showlegend": true,
         "type": "scatter",
         "x": [
          "2024-05-04T00:00:00"
         ],
         "xaxis": "x",
         "y": [
          105.24
         ],
         "yaxis": "y"
        },
        {
         "hovertemplate": "<b>%{hovertext}</b><br><br>Races=Meeting International <br> de Montreuil<br>Date de la course=%{x}<br>Chrono (en secondes)=%{y}<extra></extra>",
         "hovertext": [
          "Meeting International <br> de Montreuil <br> (16/05/2024)"
         ],
         "legendgroup": "Meeting International <br> de Montreuil",
         "line": {
          "color": "#EF553B",
          "dash": "solid",
          "shape": "spline"
         },
         "marker": {
          "symbol": "circle"
         },
         "mode": "markers+lines",
         "name": "Meeting International <br> de Montreuil",
         "orientation": "v",
         "showlegend": true,
         "type": "scatter",
         "x": [
          "2024-05-16T00:00:00"
         ],
         "xaxis": "x",
         "y": [
          106.76
         ],
         "yaxis": "y"
        },
        {
         "hovertemplate": "<b>%{hovertext}</b><br><br>Races=Meeting International <br> de Marseille<br>Date de la course=%{x}<br>Chrono (en secondes)=%{y}<extra></extra>",
         "hovertext": [
          "Meeting International <br> de Marseille <br> (22/05/2024)"
         ],
         "legendgroup": "Meeting International <br> de Marseille",
         "line": {
          "color": "#00cc96",
          "dash": "solid",
          "shape": "spline"
         },
         "marker": {
          "symbol": "circle"
         },
         "mode": "markers+lines",
         "name": "Meeting International <br> de Marseille",
         "orientation": "v",
         "showlegend": true,
         "type": "scatter",
         "x": [
          "2024-05-22T00:00:00"
         ],
         "xaxis": "x",
         "y": [
          105.81
         ],
         "yaxis": "y"
        },
        {
         "hovertemplate": "<b>%{hovertext}</b><br><br>Races=Meeting Stanislas Nancy<br>Date de la course=%{x}<br>Chrono (en secondes)=%{y}<extra></extra>",
         "hovertext": [
          "Meeting Stanislas Nancy <br> (25/05/2024)"
         ],
         "legendgroup": "Meeting Stanislas Nancy",
         "line": {
          "color": "#ab63fa",
          "dash": "solid",
          "shape": "spline"
         },
         "marker": {
          "symbol": "circle"
         },
         "mode": "markers+lines",
         "name": "Meeting Stanislas Nancy",
         "orientation": "v",
         "showlegend": true,
         "type": "scatter",
         "x": [
          "2024-05-25T00:00:00"
         ],
         "xaxis": "x",
         "y": [
          105.22
         ],
         "yaxis": "y"
        },
        {
         "hovertemplate": "<b>%{hovertext}</b><br><br>Races=Meeting International <br> de Forbach<br>Date de la course=%{x}<br>Chrono (en secondes)=%{y}<extra></extra>",
         "hovertext": [
          "<b> DNF </b> <br> Meeting International <br> de Forbach (26/05/2024)"
         ],
         "legendgroup": "Meeting International <br> de Forbach",
         "line": {
          "color": "#FFA15A",
          "dash": "solid",
          "shape": "spline"
         },
         "marker": {
          "symbol": "circle"
         },
         "mode": "markers+lines",
         "name": "Meeting International <br> de Forbach",
         "orientation": "v",
         "showlegend": true,
         "type": "scatter",
         "x": [
          "2024-05-26T00:00:00"
         ],
         "xaxis": "x",
         "y": [
          100
         ],
         "yaxis": "y"
        },
        {
         "hovertemplate": "<b>%{hovertext}</b><br><br>Races=Meeting International <br> de Troyes Aube<br>Date de la course=%{x}<br>Chrono (en secondes)=%{y}<extra></extra>",
         "hovertext": [
          "Meeting International <br> de Troyes Aube <br> (16/06/2024)"
         ],
         "legendgroup": "Meeting International <br> de Troyes Aube",
         "line": {
          "color": "#19d3f3",
          "dash": "solid",
          "shape": "spline"
         },
         "marker": {
          "symbol": "circle"
         },
         "mode": "markers+lines",
         "name": "Meeting International <br> de Troyes Aube",
         "orientation": "v",
         "showlegend": true,
         "type": "scatter",
         "x": [
          "2024-06-16T00:00:00"
         ],
         "xaxis": "x",
         "y": [
          106.94
         ],
         "yaxis": "y"
        },
        {
         "hovertemplate": "<b>%{hovertext}</b><br><br>Races=Nationales Abendsportfest - Pfungstadt, TSV Stadion, Pfungstadt<br>Date de la course=%{x}<br>Chrono (en secondes)=%{y}<extra></extra>",
         "hovertext": [
          "Nationales Abendsportfest - Pfungstadt, TSV Stadion, Pfungstadt <br> (19/06/2024)"
         ],
         "legendgroup": "Nationales Abendsportfest - Pfungstadt, TSV Stadion, Pfungstadt",
         "line": {
          "color": "#FF6692",
          "dash": "solid",
          "shape": "spline"
         },
         "marker": {
          "symbol": "circle"
         },
         "mode": "markers+lines",
         "name": "Nationales Abendsportfest - Pfungstadt, TSV Stadion, Pfungstadt",
         "orientation": "v",
         "showlegend": true,
         "type": "scatter",
         "x": [
          "2024-06-19T00:00:00"
         ],
         "xaxis": "x",
         "y": [
          105
         ],
         "yaxis": "y"
        },
        {
         "hovertemplate": "<b>%{hovertext}</b><br><br>Races=ON Track Night Vienna <br> PB - minimas olympiques<br>Date de la course=%{x}<br>Chrono (en secondes)=%{y}<extra></extra>",
         "hovertext": [
          "ON Track Night Vienna <br> PB - minimas olympiques <br> (22/06/2024)"
         ],
         "legendgroup": "ON Track Night Vienna <br> PB - minimas olympiques",
         "line": {
          "color": "#B6E880",
          "dash": "solid",
          "shape": "spline"
         },
         "marker": {
          "symbol": "circle"
         },
         "mode": "markers+lines",
         "name": "ON Track Night Vienna <br> PB - minimas olympiques",
         "orientation": "v",
         "showlegend": true,
         "type": "scatter",
         "x": [
          "2024-06-22T00:00:00"
         ],
         "xaxis": "x",
         "y": [
          104.25
         ],
         "yaxis": "y"
        }
       ],
       "frames": [
        {
         "data": [
          {
           "hovertemplate": "<b>%{hovertext}</b><br><br>Races=Meeting National <br> Est Lyonnais<br>Date de la course=%{x}<br>Chrono (en secondes)=%{y}<extra></extra>",
           "hovertext": [
            "Meeting National <br> Est Lyonnais <br> (04/05/2024)"
           ],
           "legendgroup": "Meeting National <br> Est Lyonnais",
           "line": {
            "color": "#636efa",
            "dash": "solid",
            "shape": "spline"
           },
           "marker": {
            "symbol": "circle"
           },
           "mode": "markers+lines",
           "name": "Meeting National <br> Est Lyonnais",
           "orientation": "v",
           "showlegend": true,
           "type": "scatter",
           "x": [
            "2024-05-04T00:00:00"
           ],
           "xaxis": "x",
           "y": [
            105.24
           ],
           "yaxis": "y"
          },
          {
           "hovertemplate": "Races=Meeting National <br> Est Lyonnais<br>Date=%{x}<br>sec=%{y}<extra></extra>",
           "legendgroup": "Meeting National <br> Est Lyonnais",
           "marker": {
            "color": "#636efa",
            "size": 10,
            "symbol": "circle"
           },
           "mode": "markers",
           "name": "Meeting National <br> Est Lyonnais",
           "orientation": "v",
           "showlegend": true,
           "type": "scatter",
           "x": [
            "2024-05-04T00:00:00"
           ],
           "xaxis": "x",
           "y": [
            105.24
           ],
           "yaxis": "y"
          }
         ],
         "layout": {
          "annotations": [
           {
            "arrowhead": 1,
            "ax": 20,
            "ay": -30,
            "showarrow": true,
            "text": "Meeting National <br> Est Lyonnais <br> (04/05/2024)",
            "x": "2024-05-04T00:00:00",
            "xanchor": "left",
            "y": 105.24,
            "yanchor": "bottom"
           }
          ]
         }
        },
        {
         "data": [
          {
           "hovertemplate": "<b>%{hovertext}</b><br><br>Races=Meeting National <br> Est Lyonnais<br>Date de la course=%{x}<br>Chrono (en secondes)=%{y}<extra></extra>",
           "hovertext": [
            "Meeting National <br> Est Lyonnais <br> (04/05/2024)"
           ],
           "legendgroup": "Meeting National <br> Est Lyonnais",
           "line": {
            "color": "#636efa",
            "dash": "solid",
            "shape": "spline"
           },
           "marker": {
            "symbol": "circle"
           },
           "mode": "markers+lines",
           "name": "Meeting National <br> Est Lyonnais",
           "orientation": "v",
           "showlegend": true,
           "type": "scatter",
           "x": [
            "2024-05-04T00:00:00"
           ],
           "xaxis": "x",
           "y": [
            105.24
           ],
           "yaxis": "y"
          },
          {
           "hovertemplate": "Races=Meeting International <br> de Montreuil<br>Date=%{x}<br>sec=%{y}<extra></extra>",
           "legendgroup": "Meeting International <br> de Montreuil",
           "marker": {
            "color": "#636efa",
            "size": 10,
            "symbol": "circle"
           },
           "mode": "markers",
           "name": "Meeting International <br> de Montreuil",
           "orientation": "v",
           "showlegend": true,
           "type": "scatter",
           "x": [
            "2024-05-16T00:00:00"
           ],
           "xaxis": "x",
           "y": [
            106.76
           ],
           "yaxis": "y"
          }
         ],
         "layout": {
          "annotations": [
           {
            "arrowhead": 1,
            "ax": 20,
            "ay": -30,
            "showarrow": true,
            "text": "Meeting National <br> Est Lyonnais <br> (04/05/2024)",
            "x": "2024-05-04T00:00:00",
            "xanchor": "left",
            "y": 105.24,
            "yanchor": "bottom"
           },
           {
            "arrowhead": 1,
            "ax": 20,
            "ay": -30,
            "showarrow": true,
            "text": "Meeting International <br> de Montreuil <br> (16/05/2024)",
            "x": "2024-05-16T00:00:00",
            "xanchor": "left",
            "y": 106.76,
            "yanchor": "bottom"
           }
          ]
         }
        },
        {
         "data": [
          {
           "hovertemplate": "<b>%{hovertext}</b><br><br>Races=Meeting National <br> Est Lyonnais<br>Date de la course=%{x}<br>Chrono (en secondes)=%{y}<extra></extra>",
           "hovertext": [
            "Meeting National <br> Est Lyonnais <br> (04/05/2024)"
           ],
           "legendgroup": "Meeting National <br> Est Lyonnais",
           "line": {
            "color": "#636efa",
            "dash": "solid",
            "shape": "spline"
           },
           "marker": {
            "symbol": "circle"
           },
           "mode": "markers+lines",
           "name": "Meeting National <br> Est Lyonnais",
           "orientation": "v",
           "showlegend": true,
           "type": "scatter",
           "x": [
            "2024-05-04T00:00:00"
           ],
           "xaxis": "x",
           "y": [
            105.24
           ],
           "yaxis": "y"
          },
          {
           "hovertemplate": "Races=Meeting International <br> de Marseille<br>Date=%{x}<br>sec=%{y}<extra></extra>",
           "legendgroup": "Meeting International <br> de Marseille",
           "marker": {
            "color": "#636efa",
            "size": 10,
            "symbol": "circle"
           },
           "mode": "markers",
           "name": "Meeting International <br> de Marseille",
           "orientation": "v",
           "showlegend": true,
           "type": "scatter",
           "x": [
            "2024-05-22T00:00:00"
           ],
           "xaxis": "x",
           "y": [
            105.81
           ],
           "yaxis": "y"
          }
         ],
         "layout": {
          "annotations": [
           {
            "arrowhead": 1,
            "ax": 20,
            "ay": -30,
            "showarrow": true,
            "text": "Meeting National <br> Est Lyonnais <br> (04/05/2024)",
            "x": "2024-05-04T00:00:00",
            "xanchor": "left",
            "y": 105.24,
            "yanchor": "bottom"
           },
           {
            "arrowhead": 1,
            "ax": 20,
            "ay": -30,
            "showarrow": true,
            "text": "Meeting International <br> de Montreuil <br> (16/05/2024)",
            "x": "2024-05-16T00:00:00",
            "xanchor": "left",
            "y": 106.76,
            "yanchor": "bottom"
           },
           {
            "arrowhead": 1,
            "ax": 20,
            "ay": -30,
            "showarrow": true,
            "text": "Meeting International <br> de Marseille <br> (22/05/2024)",
            "x": "2024-05-22T00:00:00",
            "xanchor": "left",
            "y": 105.81,
            "yanchor": "bottom"
           }
          ]
         }
        },
        {
         "data": [
          {
           "hovertemplate": "<b>%{hovertext}</b><br><br>Races=Meeting National <br> Est Lyonnais<br>Date de la course=%{x}<br>Chrono (en secondes)=%{y}<extra></extra>",
           "hovertext": [
            "Meeting National <br> Est Lyonnais <br> (04/05/2024)"
           ],
           "legendgroup": "Meeting National <br> Est Lyonnais",
           "line": {
            "color": "#636efa",
            "dash": "solid",
            "shape": "spline"
           },
           "marker": {
            "symbol": "circle"
           },
           "mode": "markers+lines",
           "name": "Meeting National <br> Est Lyonnais",
           "orientation": "v",
           "showlegend": true,
           "type": "scatter",
           "x": [
            "2024-05-04T00:00:00"
           ],
           "xaxis": "x",
           "y": [
            105.24
           ],
           "yaxis": "y"
          },
          {
           "hovertemplate": "Races=Meeting Stanislas Nancy<br>Date=%{x}<br>sec=%{y}<extra></extra>",
           "legendgroup": "Meeting Stanislas Nancy",
           "marker": {
            "color": "#636efa",
            "size": 10,
            "symbol": "circle"
           },
           "mode": "markers",
           "name": "Meeting Stanislas Nancy",
           "orientation": "v",
           "showlegend": true,
           "type": "scatter",
           "x": [
            "2024-05-25T00:00:00"
           ],
           "xaxis": "x",
           "y": [
            105.22
           ],
           "yaxis": "y"
          }
         ],
         "layout": {
          "annotations": [
           {
            "arrowhead": 1,
            "ax": 20,
            "ay": -30,
            "showarrow": true,
            "text": "Meeting National <br> Est Lyonnais <br> (04/05/2024)",
            "x": "2024-05-04T00:00:00",
            "xanchor": "left",
            "y": 105.24,
            "yanchor": "bottom"
           },
           {
            "arrowhead": 1,
            "ax": 20,
            "ay": -30,
            "showarrow": true,
            "text": "Meeting International <br> de Montreuil <br> (16/05/2024)",
            "x": "2024-05-16T00:00:00",
            "xanchor": "left",
            "y": 106.76,
            "yanchor": "bottom"
           },
           {
            "arrowhead": 1,
            "ax": 20,
            "ay": -30,
            "showarrow": true,
            "text": "Meeting International <br> de Marseille <br> (22/05/2024)",
            "x": "2024-05-22T00:00:00",
            "xanchor": "left",
            "y": 105.81,
            "yanchor": "bottom"
           },
           {
            "arrowhead": 1,
            "ax": 20,
            "ay": -30,
            "showarrow": true,
            "text": "Meeting Stanislas Nancy <br> (25/05/2024)",
            "x": "2024-05-25T00:00:00",
            "xanchor": "left",
            "y": 105.22,
            "yanchor": "bottom"
           }
          ]
         }
        },
        {
         "data": [
          {
           "hovertemplate": "<b>%{hovertext}</b><br><br>Races=Meeting National <br> Est Lyonnais<br>Date de la course=%{x}<br>Chrono (en secondes)=%{y}<extra></extra>",
           "hovertext": [
            "Meeting National <br> Est Lyonnais <br> (04/05/2024)"
           ],
           "legendgroup": "Meeting National <br> Est Lyonnais",
           "line": {
            "color": "#636efa",
            "dash": "solid",
            "shape": "spline"
           },
           "marker": {
            "symbol": "circle"
           },
           "mode": "markers+lines",
           "name": "Meeting National <br> Est Lyonnais",
           "orientation": "v",
           "showlegend": true,
           "type": "scatter",
           "x": [
            "2024-05-04T00:00:00"
           ],
           "xaxis": "x",
           "y": [
            105.24
           ],
           "yaxis": "y"
          },
          {
           "hovertemplate": "Races=Meeting International <br> de Forbach<br>Date=%{x}<br>sec=%{y}<extra></extra>",
           "legendgroup": "Meeting International <br> de Forbach",
           "marker": {
            "color": "#636efa",
            "size": 10,
            "symbol": "circle"
           },
           "mode": "markers",
           "name": "Meeting International <br> de Forbach",
           "orientation": "v",
           "showlegend": true,
           "type": "scatter",
           "x": [
            "2024-05-26T00:00:00"
           ],
           "xaxis": "x",
           "y": [
            100
           ],
           "yaxis": "y"
          }
         ],
         "layout": {
          "annotations": [
           {
            "arrowhead": 1,
            "ax": 20,
            "ay": -30,
            "showarrow": true,
            "text": "Meeting National <br> Est Lyonnais <br> (04/05/2024)",
            "x": "2024-05-04T00:00:00",
            "xanchor": "left",
            "y": 105.24,
            "yanchor": "bottom"
           },
           {
            "arrowhead": 1,
            "ax": 20,
            "ay": -30,
            "showarrow": true,
            "text": "Meeting International <br> de Montreuil <br> (16/05/2024)",
            "x": "2024-05-16T00:00:00",
            "xanchor": "left",
            "y": 106.76,
            "yanchor": "bottom"
           },
           {
            "arrowhead": 1,
            "ax": 20,
            "ay": -30,
            "showarrow": true,
            "text": "Meeting International <br> de Marseille <br> (22/05/2024)",
            "x": "2024-05-22T00:00:00",
            "xanchor": "left",
            "y": 105.81,
            "yanchor": "bottom"
           },
           {
            "arrowhead": 1,
            "ax": 20,
            "ay": -30,
            "showarrow": true,
            "text": "Meeting Stanislas Nancy <br> (25/05/2024)",
            "x": "2024-05-25T00:00:00",
            "xanchor": "left",
            "y": 105.22,
            "yanchor": "bottom"
           },
           {
            "arrowhead": 1,
            "ax": 20,
            "ay": -30,
            "showarrow": true,
            "text": "<b> DNF </b> <br> Meeting International <br> de Forbach (26/05/2024)",
            "x": "2024-05-26T00:00:00",
            "xanchor": "left",
            "y": 100,
            "yanchor": "bottom"
           }
          ]
         }
        },
        {
         "data": [
          {
           "hovertemplate": "<b>%{hovertext}</b><br><br>Races=Meeting National <br> Est Lyonnais<br>Date de la course=%{x}<br>Chrono (en secondes)=%{y}<extra></extra>",
           "hovertext": [
            "Meeting National <br> Est Lyonnais <br> (04/05/2024)"
           ],
           "legendgroup": "Meeting National <br> Est Lyonnais",
           "line": {
            "color": "#636efa",
            "dash": "solid",
            "shape": "spline"
           },
           "marker": {
            "symbol": "circle"
           },
           "mode": "markers+lines",
           "name": "Meeting National <br> Est Lyonnais",
           "orientation": "v",
           "showlegend": true,
           "type": "scatter",
           "x": [
            "2024-05-04T00:00:00"
           ],
           "xaxis": "x",
           "y": [
            105.24
           ],
           "yaxis": "y"
          },
          {
           "hovertemplate": "Races=Meeting International <br> de Troyes Aube<br>Date=%{x}<br>sec=%{y}<extra></extra>",
           "legendgroup": "Meeting International <br> de Troyes Aube",
           "marker": {
            "color": "#636efa",
            "size": 10,
            "symbol": "circle"
           },
           "mode": "markers",
           "name": "Meeting International <br> de Troyes Aube",
           "orientation": "v",
           "showlegend": true,
           "type": "scatter",
           "x": [
            "2024-06-16T00:00:00"
           ],
           "xaxis": "x",
           "y": [
            106.94
           ],
           "yaxis": "y"
          }
         ],
         "layout": {
          "annotations": [
           {
            "arrowhead": 1,
            "ax": 20,
            "ay": -30,
            "showarrow": true,
            "text": "Meeting National <br> Est Lyonnais <br> (04/05/2024)",
            "x": "2024-05-04T00:00:00",
            "xanchor": "left",
            "y": 105.24,
            "yanchor": "bottom"
           },
           {
            "arrowhead": 1,
            "ax": 20,
            "ay": -30,
            "showarrow": true,
            "text": "Meeting International <br> de Montreuil <br> (16/05/2024)",
            "x": "2024-05-16T00:00:00",
            "xanchor": "left",
            "y": 106.76,
            "yanchor": "bottom"
           },
           {
            "arrowhead": 1,
            "ax": 20,
            "ay": -30,
            "showarrow": true,
            "text": "Meeting International <br> de Marseille <br> (22/05/2024)",
            "x": "2024-05-22T00:00:00",
            "xanchor": "left",
            "y": 105.81,
            "yanchor": "bottom"
           },
           {
            "arrowhead": 1,
            "ax": 20,
            "ay": -30,
            "showarrow": true,
            "text": "Meeting Stanislas Nancy <br> (25/05/2024)",
            "x": "2024-05-25T00:00:00",
            "xanchor": "left",
            "y": 105.22,
            "yanchor": "bottom"
           },
           {
            "arrowhead": 1,
            "ax": 20,
            "ay": -30,
            "showarrow": true,
            "text": "<b> DNF </b> <br> Meeting International <br> de Forbach (26/05/2024)",
            "x": "2024-05-26T00:00:00",
            "xanchor": "left",
            "y": 100,
            "yanchor": "bottom"
           },
           {
            "arrowhead": 1,
            "ax": 20,
            "ay": -30,
            "showarrow": true,
            "text": "Meeting International <br> de Troyes Aube <br> (16/06/2024)",
            "x": "2024-06-16T00:00:00",
            "xanchor": "left",
            "y": 106.94,
            "yanchor": "bottom"
           }
          ]
         }
        },
        {
         "data": [
          {
           "hovertemplate": "<b>%{hovertext}</b><br><br>Races=Meeting National <br> Est Lyonnais<br>Date de la course=%{x}<br>Chrono (en secondes)=%{y}<extra></extra>",
           "hovertext": [
            "Meeting National <br> Est Lyonnais <br> (04/05/2024)"
           ],
           "legendgroup": "Meeting National <br> Est Lyonnais",
           "line": {
            "color": "#636efa",
            "dash": "solid",
            "shape": "spline"
           },
           "marker": {
            "symbol": "circle"
           },
           "mode": "markers+lines",
           "name": "Meeting National <br> Est Lyonnais",
           "orientation": "v",
           "showlegend": true,
           "type": "scatter",
           "x": [
            "2024-05-04T00:00:00"
           ],
           "xaxis": "x",
           "y": [
            105.24
           ],
           "yaxis": "y"
          },
          {
           "hovertemplate": "Races=Nationales Abendsportfest - Pfungstadt, TSV Stadion, Pfungstadt<br>Date=%{x}<br>sec=%{y}<extra></extra>",
           "legendgroup": "Nationales Abendsportfest - Pfungstadt, TSV Stadion, Pfungstadt",
           "marker": {
            "color": "#636efa",
            "size": 10,
            "symbol": "circle"
           },
           "mode": "markers",
           "name": "Nationales Abendsportfest - Pfungstadt, TSV Stadion, Pfungstadt",
           "orientation": "v",
           "showlegend": true,
           "type": "scatter",
           "x": [
            "2024-06-19T00:00:00"
           ],
           "xaxis": "x",
           "y": [
            105
           ],
           "yaxis": "y"
          }
         ],
         "layout": {
          "annotations": [
           {
            "arrowhead": 1,
            "ax": 20,
            "ay": -30,
            "showarrow": true,
            "text": "Meeting National <br> Est Lyonnais <br> (04/05/2024)",
            "x": "2024-05-04T00:00:00",
            "xanchor": "left",
            "y": 105.24,
            "yanchor": "bottom"
           },
           {
            "arrowhead": 1,
            "ax": 20,
            "ay": -30,
            "showarrow": true,
            "text": "Meeting International <br> de Montreuil <br> (16/05/2024)",
            "x": "2024-05-16T00:00:00",
            "xanchor": "left",
            "y": 106.76,
            "yanchor": "bottom"
           },
           {
            "arrowhead": 1,
            "ax": 20,
            "ay": -30,
            "showarrow": true,
            "text": "Meeting International <br> de Marseille <br> (22/05/2024)",
            "x": "2024-05-22T00:00:00",
            "xanchor": "left",
            "y": 105.81,
            "yanchor": "bottom"
           },
           {
            "arrowhead": 1,
            "ax": 20,
            "ay": -30,
            "showarrow": true,
            "text": "Meeting Stanislas Nancy <br> (25/05/2024)",
            "x": "2024-05-25T00:00:00",
            "xanchor": "left",
            "y": 105.22,
            "yanchor": "bottom"
           },
           {
            "arrowhead": 1,
            "ax": 20,
            "ay": -30,
            "showarrow": true,
            "text": "<b> DNF </b> <br> Meeting International <br> de Forbach (26/05/2024)",
            "x": "2024-05-26T00:00:00",
            "xanchor": "left",
            "y": 100,
            "yanchor": "bottom"
           },
           {
            "arrowhead": 1,
            "ax": 20,
            "ay": -30,
            "showarrow": true,
            "text": "Meeting International <br> de Troyes Aube <br> (16/06/2024)",
            "x": "2024-06-16T00:00:00",
            "xanchor": "left",
            "y": 106.94,
            "yanchor": "bottom"
           },
           {
            "arrowhead": 1,
            "ax": 20,
            "ay": -30,
            "showarrow": true,
            "text": "Nationales Abendsportfest - Pfungstadt, TSV Stadion, Pfungstadt <br> (19/06/2024)",
            "x": "2024-06-19T00:00:00",
            "xanchor": "left",
            "y": 105,
            "yanchor": "bottom"
           }
          ]
         }
        },
        {
         "data": [
          {
           "hovertemplate": "<b>%{hovertext}</b><br><br>Races=Meeting National <br> Est Lyonnais<br>Date de la course=%{x}<br>Chrono (en secondes)=%{y}<extra></extra>",
           "hovertext": [
            "Meeting National <br> Est Lyonnais <br> (04/05/2024)"
           ],
           "legendgroup": "Meeting National <br> Est Lyonnais",
           "line": {
            "color": "#636efa",
            "dash": "solid",
            "shape": "spline"
           },
           "marker": {
            "symbol": "circle"
           },
           "mode": "markers+lines",
           "name": "Meeting National <br> Est Lyonnais",
           "orientation": "v",
           "showlegend": true,
           "type": "scatter",
           "x": [
            "2024-05-04T00:00:00"
           ],
           "xaxis": "x",
           "y": [
            105.24
           ],
           "yaxis": "y"
          },
          {
           "hovertemplate": "Races=ON Track Night Vienna <br> PB - minimas olympiques<br>Date=%{x}<br>sec=%{y}<extra></extra>",
           "legendgroup": "ON Track Night Vienna <br> PB - minimas olympiques",
           "marker": {
            "color": "#636efa",
            "size": 10,
            "symbol": "circle"
           },
           "mode": "markers",
           "name": "ON Track Night Vienna <br> PB - minimas olympiques",
           "orientation": "v",
           "showlegend": true,
           "type": "scatter",
           "x": [
            "2024-06-22T00:00:00"
           ],
           "xaxis": "x",
           "y": [
            104.25
           ],
           "yaxis": "y"
          }
         ],
         "layout": {
          "annotations": [
           {
            "arrowhead": 1,
            "ax": 20,
            "ay": -30,
            "showarrow": true,
            "text": "Meeting National <br> Est Lyonnais <br> (04/05/2024)",
            "x": "2024-05-04T00:00:00",
            "xanchor": "left",
            "y": 105.24,
            "yanchor": "bottom"
           },
           {
            "arrowhead": 1,
            "ax": 20,
            "ay": -30,
            "showarrow": true,
            "text": "Meeting International <br> de Montreuil <br> (16/05/2024)",
            "x": "2024-05-16T00:00:00",
            "xanchor": "left",
            "y": 106.76,
            "yanchor": "bottom"
           },
           {
            "arrowhead": 1,
            "ax": 20,
            "ay": -30,
            "showarrow": true,
            "text": "Meeting International <br> de Marseille <br> (22/05/2024)",
            "x": "2024-05-22T00:00:00",
            "xanchor": "left",
            "y": 105.81,
            "yanchor": "bottom"
           },
           {
            "arrowhead": 1,
            "ax": 20,
            "ay": -30,
            "showarrow": true,
            "text": "Meeting Stanislas Nancy <br> (25/05/2024)",
            "x": "2024-05-25T00:00:00",
            "xanchor": "left",
            "y": 105.22,
            "yanchor": "bottom"
           },
           {
            "arrowhead": 1,
            "ax": 20,
            "ay": -30,
            "showarrow": true,
            "text": "<b> DNF </b> <br> Meeting International <br> de Forbach (26/05/2024)",
            "x": "2024-05-26T00:00:00",
            "xanchor": "left",
            "y": 100,
            "yanchor": "bottom"
           },
           {
            "arrowhead": 1,
            "ax": 20,
            "ay": -30,
            "showarrow": true,
            "text": "Meeting International <br> de Troyes Aube <br> (16/06/2024)",
            "x": "2024-06-16T00:00:00",
            "xanchor": "left",
            "y": 106.94,
            "yanchor": "bottom"
           },
           {
            "arrowhead": 1,
            "ax": 20,
            "ay": -30,
            "showarrow": true,
            "text": "Nationales Abendsportfest - Pfungstadt, TSV Stadion, Pfungstadt <br> (19/06/2024)",
            "x": "2024-06-19T00:00:00",
            "xanchor": "left",
            "y": 105,
            "yanchor": "bottom"
           },
           {
            "arrowhead": 1,
            "ax": 20,
            "ay": -30,
            "showarrow": true,
            "text": "ON Track Night Vienna <br> PB - minimas olympiques <br> (22/06/2024)",
            "x": "2024-06-22T00:00:00",
            "xanchor": "left",
            "y": 104.25,
            "yanchor": "bottom"
           }
          ]
         }
        }
       ],
       "layout": {
        "height": 700,
        "images": [
         {
          "sizex": 0.4,
          "sizey": 0.8,
          "source": "https://th.bing.com/th?id=OIF.%2b90RqIvf%2fD8wBBpnHltrsg&rs=1&pid=ImgDetMain",
          "x": 0,
          "xanchor": "left",
          "xref": "paper",
          "y": 0,
          "yanchor": "bottom",
          "yref": "paper"
         }
        ],
        "legend": {
         "font": {
          "size": 10
         },
         "orientation": "v",
         "title": {
          "text": "Races"
         },
         "tracegroupgap": 0,
         "traceorder": "normal",
         "x": 1,
         "y": 1
        },
        "showlegend": false,
        "template": {
         "data": {
          "bar": [
           {
            "error_x": {
             "color": "#2a3f5f"
            },
            "error_y": {
             "color": "#2a3f5f"
            },
            "marker": {
             "line": {
              "color": "#E5ECF6",
              "width": 0.5
             },
             "pattern": {
              "fillmode": "overlay",
              "size": 10,
              "solidity": 0.2
             }
            },
            "type": "bar"
           }
          ],
          "barpolar": [
           {
            "marker": {
             "line": {
              "color": "#E5ECF6",
              "width": 0.5
             },
             "pattern": {
              "fillmode": "overlay",
              "size": 10,
              "solidity": 0.2
             }
            },
            "type": "barpolar"
           }
          ],
          "carpet": [
           {
            "aaxis": {
             "endlinecolor": "#2a3f5f",
             "gridcolor": "white",
             "linecolor": "white",
             "minorgridcolor": "white",
             "startlinecolor": "#2a3f5f"
            },
            "baxis": {
             "endlinecolor": "#2a3f5f",
             "gridcolor": "white",
             "linecolor": "white",
             "minorgridcolor": "white",
             "startlinecolor": "#2a3f5f"
            },
            "type": "carpet"
           }
          ],
          "choropleth": [
           {
            "colorbar": {
             "outlinewidth": 0,
             "ticks": ""
            },
            "type": "choropleth"
           }
          ],
          "contour": [
           {
            "colorbar": {
             "outlinewidth": 0,
             "ticks": ""
            },
            "colorscale": [
             [
              0,
              "#0d0887"
             ],
             [
              0.1111111111111111,
              "#46039f"
             ],
             [
              0.2222222222222222,
              "#7201a8"
             ],
             [
              0.3333333333333333,
              "#9c179e"
             ],
             [
              0.4444444444444444,
              "#bd3786"
             ],
             [
              0.5555555555555556,
              "#d8576b"
             ],
             [
              0.6666666666666666,
              "#ed7953"
             ],
             [
              0.7777777777777778,
              "#fb9f3a"
             ],
             [
              0.8888888888888888,
              "#fdca26"
             ],
             [
              1,
              "#f0f921"
             ]
            ],
            "type": "contour"
           }
          ],
          "contourcarpet": [
           {
            "colorbar": {
             "outlinewidth": 0,
             "ticks": ""
            },
            "type": "contourcarpet"
           }
          ],
          "heatmap": [
           {
            "colorbar": {
             "outlinewidth": 0,
             "ticks": ""
            },
            "colorscale": [
             [
              0,
              "#0d0887"
             ],
             [
              0.1111111111111111,
              "#46039f"
             ],
             [
              0.2222222222222222,
              "#7201a8"
             ],
             [
              0.3333333333333333,
              "#9c179e"
             ],
             [
              0.4444444444444444,
              "#bd3786"
             ],
             [
              0.5555555555555556,
              "#d8576b"
             ],
             [
              0.6666666666666666,
              "#ed7953"
             ],
             [
              0.7777777777777778,
              "#fb9f3a"
             ],
             [
              0.8888888888888888,
              "#fdca26"
             ],
             [
              1,
              "#f0f921"
             ]
            ],
            "type": "heatmap"
           }
          ],
          "heatmapgl": [
           {
            "colorbar": {
             "outlinewidth": 0,
             "ticks": ""
            },
            "colorscale": [
             [
              0,
              "#0d0887"
             ],
             [
              0.1111111111111111,
              "#46039f"
             ],
             [
              0.2222222222222222,
              "#7201a8"
             ],
             [
              0.3333333333333333,
              "#9c179e"
             ],
             [
              0.4444444444444444,
              "#bd3786"
             ],
             [
              0.5555555555555556,
              "#d8576b"
             ],
             [
              0.6666666666666666,
              "#ed7953"
             ],
             [
              0.7777777777777778,
              "#fb9f3a"
             ],
             [
              0.8888888888888888,
              "#fdca26"
             ],
             [
              1,
              "#f0f921"
             ]
            ],
            "type": "heatmapgl"
           }
          ],
          "histogram": [
           {
            "marker": {
             "pattern": {
              "fillmode": "overlay",
              "size": 10,
              "solidity": 0.2
             }
            },
            "type": "histogram"
           }
          ],
          "histogram2d": [
           {
            "colorbar": {
             "outlinewidth": 0,
             "ticks": ""
            },
            "colorscale": [
             [
              0,
              "#0d0887"
             ],
             [
              0.1111111111111111,
              "#46039f"
             ],
             [
              0.2222222222222222,
              "#7201a8"
             ],
             [
              0.3333333333333333,
              "#9c179e"
             ],
             [
              0.4444444444444444,
              "#bd3786"
             ],
             [
              0.5555555555555556,
              "#d8576b"
             ],
             [
              0.6666666666666666,
              "#ed7953"
             ],
             [
              0.7777777777777778,
              "#fb9f3a"
             ],
             [
              0.8888888888888888,
              "#fdca26"
             ],
             [
              1,
              "#f0f921"
             ]
            ],
            "type": "histogram2d"
           }
          ],
          "histogram2dcontour": [
           {
            "colorbar": {
             "outlinewidth": 0,
             "ticks": ""
            },
            "colorscale": [
             [
              0,
              "#0d0887"
             ],
             [
              0.1111111111111111,
              "#46039f"
             ],
             [
              0.2222222222222222,
              "#7201a8"
             ],
             [
              0.3333333333333333,
              "#9c179e"
             ],
             [
              0.4444444444444444,
              "#bd3786"
             ],
             [
              0.5555555555555556,
              "#d8576b"
             ],
             [
              0.6666666666666666,
              "#ed7953"
             ],
             [
              0.7777777777777778,
              "#fb9f3a"
             ],
             [
              0.8888888888888888,
              "#fdca26"
             ],
             [
              1,
              "#f0f921"
             ]
            ],
            "type": "histogram2dcontour"
           }
          ],
          "mesh3d": [
           {
            "colorbar": {
             "outlinewidth": 0,
             "ticks": ""
            },
            "type": "mesh3d"
           }
          ],
          "parcoords": [
           {
            "line": {
             "colorbar": {
              "outlinewidth": 0,
              "ticks": ""
             }
            },
            "type": "parcoords"
           }
          ],
          "pie": [
           {
            "automargin": true,
            "type": "pie"
           }
          ],
          "scatter": [
           {
            "fillpattern": {
             "fillmode": "overlay",
             "size": 10,
             "solidity": 0.2
            },
            "type": "scatter"
           }
          ],
          "scatter3d": [
           {
            "line": {
             "colorbar": {
              "outlinewidth": 0,
              "ticks": ""
             }
            },
            "marker": {
             "colorbar": {
              "outlinewidth": 0,
              "ticks": ""
             }
            },
            "type": "scatter3d"
           }
          ],
          "scattercarpet": [
           {
            "marker": {
             "colorbar": {
              "outlinewidth": 0,
              "ticks": ""
             }
            },
            "type": "scattercarpet"
           }
          ],
          "scattergeo": [
           {
            "marker": {
             "colorbar": {
              "outlinewidth": 0,
              "ticks": ""
             }
            },
            "type": "scattergeo"
           }
          ],
          "scattergl": [
           {
            "marker": {
             "colorbar": {
              "outlinewidth": 0,
              "ticks": ""
             }
            },
            "type": "scattergl"
           }
          ],
          "scattermapbox": [
           {
            "marker": {
             "colorbar": {
              "outlinewidth": 0,
              "ticks": ""
             }
            },
            "type": "scattermapbox"
           }
          ],
          "scatterpolar": [
           {
            "marker": {
             "colorbar": {
              "outlinewidth": 0,
              "ticks": ""
             }
            },
            "type": "scatterpolar"
           }
          ],
          "scatterpolargl": [
           {
            "marker": {
             "colorbar": {
              "outlinewidth": 0,
              "ticks": ""
             }
            },
            "type": "scatterpolargl"
           }
          ],
          "scatterternary": [
           {
            "marker": {
             "colorbar": {
              "outlinewidth": 0,
              "ticks": ""
             }
            },
            "type": "scatterternary"
           }
          ],
          "surface": [
           {
            "colorbar": {
             "outlinewidth": 0,
             "ticks": ""
            },
            "colorscale": [
             [
              0,
              "#0d0887"
             ],
             [
              0.1111111111111111,
              "#46039f"
             ],
             [
              0.2222222222222222,
              "#7201a8"
             ],
             [
              0.3333333333333333,
              "#9c179e"
             ],
             [
              0.4444444444444444,
              "#bd3786"
             ],
             [
              0.5555555555555556,
              "#d8576b"
             ],
             [
              0.6666666666666666,
              "#ed7953"
             ],
             [
              0.7777777777777778,
              "#fb9f3a"
             ],
             [
              0.8888888888888888,
              "#fdca26"
             ],
             [
              1,
              "#f0f921"
             ]
            ],
            "type": "surface"
           }
          ],
          "table": [
           {
            "cells": {
             "fill": {
              "color": "#EBF0F8"
             },
             "line": {
              "color": "white"
             }
            },
            "header": {
             "fill": {
              "color": "#C8D4E3"
             },
             "line": {
              "color": "white"
             }
            },
            "type": "table"
           }
          ]
         },
         "layout": {
          "annotationdefaults": {
           "arrowcolor": "#2a3f5f",
           "arrowhead": 0,
           "arrowwidth": 1
          },
          "autotypenumbers": "strict",
          "coloraxis": {
           "colorbar": {
            "outlinewidth": 0,
            "ticks": ""
           }
          },
          "colorscale": {
           "diverging": [
            [
             0,
             "#8e0152"
            ],
            [
             0.1,
             "#c51b7d"
            ],
            [
             0.2,
             "#de77ae"
            ],
            [
             0.3,
             "#f1b6da"
            ],
            [
             0.4,
             "#fde0ef"
            ],
            [
             0.5,
             "#f7f7f7"
            ],
            [
             0.6,
             "#e6f5d0"
            ],
            [
             0.7,
             "#b8e186"
            ],
            [
             0.8,
             "#7fbc41"
            ],
            [
             0.9,
             "#4d9221"
            ],
            [
             1,
             "#276419"
            ]
           ],
           "sequential": [
            [
             0,
             "#0d0887"
            ],
            [
             0.1111111111111111,
             "#46039f"
            ],
            [
             0.2222222222222222,
             "#7201a8"
            ],
            [
             0.3333333333333333,
             "#9c179e"
            ],
            [
             0.4444444444444444,
             "#bd3786"
            ],
            [
             0.5555555555555556,
             "#d8576b"
            ],
            [
             0.6666666666666666,
             "#ed7953"
            ],
            [
             0.7777777777777778,
             "#fb9f3a"
            ],
            [
             0.8888888888888888,
             "#fdca26"
            ],
            [
             1,
             "#f0f921"
            ]
           ],
           "sequentialminus": [
            [
             0,
             "#0d0887"
            ],
            [
             0.1111111111111111,
             "#46039f"
            ],
            [
             0.2222222222222222,
             "#7201a8"
            ],
            [
             0.3333333333333333,
             "#9c179e"
            ],
            [
             0.4444444444444444,
             "#bd3786"
            ],
            [
             0.5555555555555556,
             "#d8576b"
            ],
            [
             0.6666666666666666,
             "#ed7953"
            ],
            [
             0.7777777777777778,
             "#fb9f3a"
            ],
            [
             0.8888888888888888,
             "#fdca26"
            ],
            [
             1,
             "#f0f921"
            ]
           ]
          },
          "colorway": [
           "#636efa",
           "#EF553B",
           "#00cc96",
           "#ab63fa",
           "#FFA15A",
           "#19d3f3",
           "#FF6692",
           "#B6E880",
           "#FF97FF",
           "#FECB52"
          ],
          "font": {
           "color": "#2a3f5f"
          },
          "geo": {
           "bgcolor": "white",
           "lakecolor": "white",
           "landcolor": "#E5ECF6",
           "showlakes": true,
           "showland": true,
           "subunitcolor": "white"
          },
          "hoverlabel": {
           "align": "left"
          },
          "hovermode": "closest",
          "mapbox": {
           "style": "light"
          },
          "paper_bgcolor": "white",
          "plot_bgcolor": "#E5ECF6",
          "polar": {
           "angularaxis": {
            "gridcolor": "white",
            "linecolor": "white",
            "ticks": ""
           },
           "bgcolor": "#E5ECF6",
           "radialaxis": {
            "gridcolor": "white",
            "linecolor": "white",
            "ticks": ""
           }
          },
          "scene": {
           "xaxis": {
            "backgroundcolor": "#E5ECF6",
            "gridcolor": "white",
            "gridwidth": 2,
            "linecolor": "white",
            "showbackground": true,
            "ticks": "",
            "zerolinecolor": "white"
           },
           "yaxis": {
            "backgroundcolor": "#E5ECF6",
            "gridcolor": "white",
            "gridwidth": 2,
            "linecolor": "white",
            "showbackground": true,
            "ticks": "",
            "zerolinecolor": "white"
           },
           "zaxis": {
            "backgroundcolor": "#E5ECF6",
            "gridcolor": "white",
            "gridwidth": 2,
            "linecolor": "white",
            "showbackground": true,
            "ticks": "",
            "zerolinecolor": "white"
           }
          },
          "shapedefaults": {
           "line": {
            "color": "#2a3f5f"
           }
          },
          "ternary": {
           "aaxis": {
            "gridcolor": "white",
            "linecolor": "white",
            "ticks": ""
           },
           "baxis": {
            "gridcolor": "white",
            "linecolor": "white",
            "ticks": ""
           },
           "bgcolor": "#E5ECF6",
           "caxis": {
            "gridcolor": "white",
            "linecolor": "white",
            "ticks": ""
           }
          },
          "title": {
           "x": 0.05
          },
          "xaxis": {
           "automargin": true,
           "gridcolor": "white",
           "linecolor": "white",
           "ticks": "",
           "title": {
            "standoff": 15
           },
           "zerolinecolor": "white",
           "zerolinewidth": 2
          },
          "yaxis": {
           "automargin": true,
           "gridcolor": "white",
           "linecolor": "white",
           "ticks": "",
           "title": {
            "standoff": 15
           },
           "zerolinecolor": "white",
           "zerolinewidth": 2
          }
         }
        },
        "title": {
         "text": "Évolution des chronos sur 800m de Corentin LE CLEZIO (été 2024)"
        },
        "updatemenus": [
         {
          "buttons": [
           {
            "args": [
             null,
             {
              "frame": {
               "duration": 3000,
               "redraw": true
              },
              "fromcurrent": true,
              "transition": {
               "duration": 500,
               "easing": "linear"
              }
             }
            ],
            "label": "Play",
            "method": "animate"
           }
          ],
          "direction": "left",
          "pad": {
           "r": 10,
           "t": 87
          },
          "showactive": false,
          "type": "buttons",
          "x": 0.1,
          "xanchor": "right",
          "y": 0,
          "yanchor": "top"
         }
        ],
        "width": 1000,
        "xaxis": {
         "anchor": "y",
         "domain": [
          0,
          1
         ],
         "range": [
          "2024-05-04T00:00:00",
          "2024-06-22T00:00:00"
         ],
         "title": {
          "text": "Date de la course"
         }
        },
        "yaxis": {
         "anchor": "x",
         "domain": [
          0,
          1
         ],
         "range": [
          95,
          111.94
         ],
         "title": {
          "text": "Chrono (en secondes)"
         }
        }
       }
      }
     },
     "metadata": {},
     "output_type": "display_data"
    }
   ],
   "source": [
    "R = ['Meeting National <br> Est Lyonnais',\n",
    "     'Meeting International <br> de Montreuil',\n",
    "     'Meeting International <br> de Marseille',\n",
    "     'Meeting Stanislas Nancy',\n",
    "     'Meeting International <br> de Forbach',\n",
    "     \"Meeting International <br> de Troyes Aube\",\n",
    "    'Nationales Abendsportfest - Pfungstadt, TSV Stadion, Pfungstadt', \n",
    "    'ON Track Night Vienna <br> PB - minimas olympiques']\n",
    "\n",
    "T = [timedelta(minutes=1, seconds=45, milliseconds=240),\n",
    "     timedelta(minutes=1, seconds=46, milliseconds=760),\n",
    "     timedelta(minutes=1, seconds=45, milliseconds=810),\n",
    "     timedelta(minutes=1, seconds=45, milliseconds=220),\n",
    "     'DNF',\n",
    "     timedelta(minutes=1, seconds=46, milliseconds=940),\n",
    "     timedelta(minutes=1, seconds=45, milliseconds=00),\n",
    "     timedelta(minutes=1, seconds=44, milliseconds=250)]\n",
    "\n",
    "D = [datetime(year=2024, month=5, day=4),\n",
    "     datetime(year=2024, month=5, day=16),\n",
    "     datetime(year=2024, month=5, day=22),\n",
    "     datetime(year=2024, month=5, day=25),\n",
    "     datetime(year=2024, month=5, day=26),\n",
    "     datetime(year=2024, month=6, day=16),\n",
    "     datetime(year=2024, month=6, day=19),\n",
    "     datetime(year=2024, month=6, day=22)]\n",
    "\n",
    "corentin = pd.DataFrame(f_OTN.remplir_dico_athle(R,T,D))\n",
    "\n",
    "corentin['sec'] = corentin['Time'].apply(lambda x: 100 if x == 'DNF' else x.total_seconds())\n",
    "corentin.sort_values(by='Date', inplace=True)\n",
    "\n",
    "def format_race_date(row):\n",
    "    if row['Time'] == 'DNF':\n",
    "        return f\"<b> DNF </b> <br> {row['Races']} ({row['Date'].strftime('%d/%m/%Y')})\"\n",
    "    else:\n",
    "        return f\"{row['Races']} <br> ({row['Date'].strftime('%d/%m/%Y')})\"\n",
    "\n",
    "corentin['Race_Date'] = corentin.apply(format_race_date, axis=1)\n",
    "fig = px.line(corentin, x='Date', y='sec', color='Races', markers=True,\n",
    "              range_x=[corentin['Date'].min(), corentin['Date'].max()],\n",
    "              range_y=[corentin['sec'].min() - 5, corentin['sec'].max() + 5],\n",
    "              title=\"Évolution des chronos sur 800m de Corentin LE CLEZIO (été 2024)\",\n",
    "              labels={'Date': 'Date de la course', 'sec': 'Chrono (en secondes)'},\n",
    "              line_shape='spline',\n",
    "              hover_name='Race_Date')\n",
    "\n",
    "\n",
    "fig.update_layout(\n",
    "    width=1000,  # Largeur du graphique\n",
    "    height=700,  # Hauteur du graphique\n",
    "    showlegend=True,\n",
    "    legend=dict(\n",
    "        traceorder='normal',\n",
    "        font=dict(size=10),\n",
    "        orientation=\"v\",\n",
    "        x=1,\n",
    "        y=1\n",
    "    )\n",
    ")\n",
    "\n",
    "\n",
    "frames = []\n",
    "\n",
    "\n",
    "for i in range(len(corentin)):\n",
    "    frame_data = corentin.iloc[:i+1]  \n",
    "    frame_annotations = [\n",
    "        dict(\n",
    "            x=corentin.iloc[j]['Date'],\n",
    "            y=corentin.iloc[j]['sec'],\n",
    "            text=corentin.iloc[j]['Race_Date'],\n",
    "            showarrow=True,\n",
    "            arrowhead=1,\n",
    "            xanchor='left',\n",
    "            yanchor='bottom',  \n",
    "            ax=20,  \n",
    "            ay=-30\n",
    "        )\n",
    "        for j in range(i+1)\n",
    "    ]\n",
    "    trace = px.scatter(corentin.iloc[i:i+1], x='Date', y='sec', color='Races').data[0]\n",
    "    trace.marker.size = 10  \n",
    "    \n",
    "    frames.append({\n",
    "        'data': [fig.data[0], trace],  \n",
    "        'layout': {'annotations': frame_annotations}\n",
    "    })\n",
    "fig.frames = frames\n",
    "fig.update_layout(\n",
    "    updatemenus=[{\n",
    "        \"buttons\": [{\n",
    "            \"args\": [None, {\n",
    "                \"frame\": {\"duration\": 3000, \"redraw\": True},  \n",
    "                \"fromcurrent\": True,\n",
    "                \"transition\": {\"duration\": 500, \"easing\": \"linear\"}\n",
    "            }],\n",
    "            \"label\": \"Play\",\n",
    "            \"method\": \"animate\"\n",
    "        }],\n",
    "        \"direction\": \"left\",\n",
    "        \"pad\": {\"r\": 10, \"t\": 87},\n",
    "        \"showactive\": False,\n",
    "        \"type\": \"buttons\",\n",
    "        \"x\": 0.1,\n",
    "        \"xanchor\": \"right\",\n",
    "        \"y\": 0,\n",
    "        \"yanchor\": \"top\"\n",
    "    }]\n",
    ")\n",
    "#fig.add_annotation(x = datetime(year=2024, month=5, day=26), y=100, text='DNF 26/05/2024', showarrow=True, arrowhead=1)\n",
    "fig.add_layout_image(\n",
    "    dict(\n",
    "        source=\"https://th.bing.com/th?id=OIF.%2b90RqIvf%2fD8wBBpnHltrsg&rs=1&pid=ImgDetMain\",  # URL ou chemin local de votre image\n",
    "        xref=\"paper\", yref=\"paper\",\n",
    "        x=0, y=0,  \n",
    "        sizex=0.4, sizey=0.8,  \n",
    "        xanchor=\"left\", yanchor=\"bottom\" \n",
    "    )\n",
    ")\n",
    "fig.update_layout(showlegend=False)\n",
    "fig.show()\n"
   ]
  }
 ],
 "metadata": {
  "kernelspec": {
   "display_name": "base",
   "language": "python",
   "name": "python3"
  },
  "language_info": {
   "codemirror_mode": {
    "name": "ipython",
    "version": 3
   },
   "file_extension": ".py",
   "mimetype": "text/x-python",
   "name": "python",
   "nbconvert_exporter": "python",
   "pygments_lexer": "ipython3",
   "version": "3.11.7"
  }
 },
 "nbformat": 4,
 "nbformat_minor": 2
}
